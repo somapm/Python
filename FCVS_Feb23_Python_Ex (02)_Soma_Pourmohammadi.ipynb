{
 "cells": [
  {
   "cell_type": "code",
   "execution_count": 19,
   "id": "08f0c03c",
   "metadata": {},
   "outputs": [
    {
     "name": "stdout",
     "output_type": "stream",
     "text": [
      "enter the number: 5\n",
      "input: 5, output (print): circle area is 5 \n"
     ]
    }
   ],
   "source": [
    "#Ex01\n",
    "#Area of Circle = π * R * R.\n",
    "\n",
    "import math\n",
    "\n",
    "pi = 3.14\n",
    "R = circle_area\n",
    "circle_area = input('enter the number: ')\n",
    "print('input: {0}, output (print): circle area is {1} '.format(R, circle_area))\n"
   ]
  },
  {
   "cell_type": "code",
   "execution_count": null,
   "id": "06762f41",
   "metadata": {},
   "outputs": [],
   "source": [
    "#Ex02 \n",
    "\n",
    "entery1 = float(input('enter the number: input 1'))\n",
    "entery2 = float(input('enter the number: input 2'))\n",
    "entry3 = float(input('enter the number: input 3'))\n",
    "\n",
    "print('input: {0}, output (print): circle area is {1} '.format(entery1, entery2))"
   ]
  },
  {
   "cell_type": "code",
   "execution_count": null,
   "id": "3ae36f1f",
   "metadata": {},
   "outputs": [],
   "source": [
    "#Ex03\n"
   ]
  },
  {
   "cell_type": "code",
   "execution_count": 2,
   "id": "b73daeef",
   "metadata": {},
   "outputs": [],
   "source": [
    "#Ex04"
   ]
  },
  {
   "cell_type": "code",
   "execution_count": 3,
   "id": "0eae4c28",
   "metadata": {},
   "outputs": [],
   "source": [
    "#Ex05"
   ]
  },
  {
   "cell_type": "code",
   "execution_count": 9,
   "id": "f63851d8",
   "metadata": {},
   "outputs": [
    {
     "name": "stdout",
     "output_type": "stream",
     "text": [
      "#\n",
      "##\n",
      "###\n",
      "####\n",
      "#####\n",
      "######\n",
      "#######\n"
     ]
    }
   ],
   "source": [
    "#Ex06 : Write a code to create followim area.\n",
    "\n",
    "#To create this pattern in Python, you can use a for loop.\n",
    "\n",
    "\n",
    "for i in range(1,8):\n",
    "    for j in range(1,i+1):\n",
    "        print(\"#\", end = \"\")\n",
    "    print()\n"
   ]
  },
  {
   "cell_type": "code",
   "execution_count": null,
   "id": "6824c013",
   "metadata": {},
   "outputs": [],
   "source": []
  }
 ],
 "metadata": {
  "kernelspec": {
   "display_name": "Python 3 (ipykernel)",
   "language": "python",
   "name": "python3"
  },
  "language_info": {
   "codemirror_mode": {
    "name": "ipython",
    "version": 3
   },
   "file_extension": ".py",
   "mimetype": "text/x-python",
   "name": "python",
   "nbconvert_exporter": "python",
   "pygments_lexer": "ipython3",
   "version": "3.9.12"
  }
 },
 "nbformat": 4,
 "nbformat_minor": 5
}
