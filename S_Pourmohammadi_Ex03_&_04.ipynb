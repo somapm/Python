{
  "nbformat": 4,
  "nbformat_minor": 0,
  "metadata": {
    "colab": {
      "provenance": [],
      "authorship_tag": "ABX9TyPoMNgpMtqsDHbUUtQSpLqx",
      "include_colab_link": true
    },
    "kernelspec": {
      "name": "python3",
      "display_name": "Python 3"
    },
    "language_info": {
      "name": "python"
    }
  },
  "cells": [
    {
      "cell_type": "markdown",
      "metadata": {
        "id": "view-in-github",
        "colab_type": "text"
      },
      "source": [
        "<a href=\"https://colab.research.google.com/github/somapm/Python/blob/main/S_Pourmohammadi_Ex03_%26_04.ipynb\" target=\"_parent\"><img src=\"https://colab.research.google.com/assets/colab-badge.svg\" alt=\"Open In Colab\"/></a>"
      ]
    },
    {
      "cell_type": "markdown",
      "source": [
        "**Exercise 03**"
      ],
      "metadata": {
        "id": "d_1UcY5x3hvm"
      }
    },
    {
      "cell_type": "markdown",
      "source": [
        "**Question 01**"
      ],
      "metadata": {
        "id": "2bKpLgH53tK8"
      }
    },
    {
      "cell_type": "code",
      "execution_count": 1,
      "metadata": {
        "colab": {
          "base_uri": "https://localhost:8080/"
        },
        "id": "Zvaz9hqU108Q",
        "outputId": "2ff07c74-a3ea-470e-8f97-47a282790661"
      },
      "outputs": [
        {
          "output_type": "stream",
          "name": "stdout",
          "text": [
            "Enter the first string: helloworld\n",
            "Enter the second string: world\n",
            "Result: hello\n"
          ]
        }
      ],
      "source": [
        "# Get input from user\n",
        "first_string = input(\"Enter the first string: \")\n",
        "second_string = input(\"Enter the second string: \")\n",
        "\n",
        "# Check if second string is in first string\n",
        "if second_string in first_string:\n",
        "    # Remove all occurrences of second string\n",
        "    result = first_string.replace(second_string, \"\")\n",
        "else:\n",
        "    # Add second string to beginning and end\n",
        "    result = second_string + first_string + second_string\n",
        "\n",
        "# Output the result\n",
        "print(\"Result:\", result)"
      ]
    },
    {
      "cell_type": "markdown",
      "source": [
        "**Question 02**"
      ],
      "metadata": {
        "id": "pJLETGI56c3x"
      }
    },
    {
      "cell_type": "code",
      "source": [
        "salary = float(input(\"Enter the employee's base salary: \"))\n",
        "\n",
        "if salary < 3000:\n",
        "    tax_rate = 0.0\n",
        "elif 3000 <= salary <= 5000:\n",
        "    tax_rate = 0.10\n",
        "elif 5000 < salary <= 8000:\n",
        "    tax_rate = 0.15\n",
        "else:  # salary > 8000\n",
        "    tax_rate = 0.20\n",
        "\n",
        "tax_amount = salary * tax_rate\n",
        "net_salary = salary - tax_amount\n",
        "\n",
        "print(f\"Net salary after tax deduction: {net_salary:.2f}\")\n"
      ],
      "metadata": {
        "colab": {
          "base_uri": "https://localhost:8080/"
        },
        "id": "PteqFo9W3g8T",
        "outputId": "da51839e-d17c-4a4d-da4f-42593522a293"
      },
      "execution_count": 2,
      "outputs": [
        {
          "output_type": "stream",
          "name": "stdout",
          "text": [
            "Enter the employee's base salary: 2800\n",
            "Net salary after tax deduction: 2800.00\n"
          ]
        }
      ]
    },
    {
      "cell_type": "code",
      "source": [
        "salary = float(input(\"Enter the employee's base salary: \"))\n",
        "\n",
        "if salary < 3000:\n",
        "    tax_rate = 0.0\n",
        "elif 3000 <= salary <= 5000:\n",
        "    tax_rate = 0.10\n",
        "elif 5000 < salary <= 8000:\n",
        "    tax_rate = 0.15\n",
        "else:  # salary > 8000\n",
        "    tax_rate = 0.20\n",
        "\n",
        "tax_amount = salary * tax_rate\n",
        "net_salary = salary - tax_amount\n",
        "\n",
        "print(f\"Net salary after tax deduction: {net_salary:.2f}\")\n"
      ],
      "metadata": {
        "colab": {
          "base_uri": "https://localhost:8080/"
        },
        "id": "c8Sbi4kN6qjW",
        "outputId": "65de3be5-0629-454d-ebf8-bd46c4827bcc"
      },
      "execution_count": 3,
      "outputs": [
        {
          "output_type": "stream",
          "name": "stdout",
          "text": [
            "Enter the employee's base salary: 4500\n",
            "Net salary after tax deduction: 4050.00\n"
          ]
        }
      ]
    },
    {
      "cell_type": "code",
      "source": [
        "salary = float(input(\"Enter the employee's base salary: \"))\n",
        "\n",
        "if salary < 3000:\n",
        "    tax_rate = 0.0\n",
        "elif 3000 <= salary <= 5000:\n",
        "    tax_rate = 0.10\n",
        "elif 5000 < salary <= 8000:\n",
        "    tax_rate = 0.15\n",
        "else:  # salary > 8000\n",
        "    tax_rate = 0.20\n",
        "\n",
        "tax_amount = salary * tax_rate\n",
        "net_salary = salary - tax_amount\n",
        "\n",
        "print(f\"Net salary after tax deduction: {net_salary:.2f}\")\n"
      ],
      "metadata": {
        "colab": {
          "base_uri": "https://localhost:8080/"
        },
        "id": "PyES9zjO6xDb",
        "outputId": "49228baa-8d9a-4ba7-fd81-dcda1f49cdb8"
      },
      "execution_count": 4,
      "outputs": [
        {
          "output_type": "stream",
          "name": "stdout",
          "text": [
            "Enter the employee's base salary: 6600\n",
            "Net salary after tax deduction: 5610.00\n"
          ]
        }
      ]
    },
    {
      "cell_type": "code",
      "source": [
        "salary = float(input(\"Enter the employee's base salary: \"))\n",
        "\n",
        "if salary < 3000:\n",
        "    tax_rate = 0.0\n",
        "elif 3000 <= salary <= 5000:\n",
        "    tax_rate = 0.10\n",
        "elif 5000 < salary <= 8000:\n",
        "    tax_rate = 0.15\n",
        "else:  # salary > 8000\n",
        "    tax_rate = 0.20\n",
        "\n",
        "tax_amount = salary * tax_rate\n",
        "net_salary = salary - tax_amount\n",
        "\n",
        "print(f\"Net salary after tax deduction: {net_salary:.2f}\")\n"
      ],
      "metadata": {
        "colab": {
          "base_uri": "https://localhost:8080/"
        },
        "id": "RtGitNWn62YC",
        "outputId": "d34c7952-3d98-484b-864f-c18fa6c0a7f4"
      },
      "execution_count": 5,
      "outputs": [
        {
          "output_type": "stream",
          "name": "stdout",
          "text": [
            "Enter the employee's base salary: 8100\n",
            "Net salary after tax deduction: 6480.00\n"
          ]
        }
      ]
    },
    {
      "cell_type": "code",
      "source": [
        "# Get the base salary from the user\n",
        "salary = float(input(\"Enter the employee's base salary: \"))\n",
        "\n",
        "# Determine the tax based on salary range\n",
        "if salary < 3000:\n",
        "    tax_rate = 0.0\n",
        "elif salary <= 5000:\n",
        "    tax_rate = 0.10\n",
        "elif salary <= 8000:\n",
        "    tax_rate = 0.15\n",
        "else:\n",
        "    tax_rate = 0.20\n",
        "\n",
        "# Calculate tax and net salary\n",
        "tax_amount = salary * tax_rate\n",
        "net_salary = salary - tax_amount\n",
        "\n",
        "# Display the net salary\n",
        "print(f\"Net salary after tax deduction: {net_salary:.2f}\")\n"
      ],
      "metadata": {
        "colab": {
          "base_uri": "https://localhost:8080/"
        },
        "id": "Xo5QwKMs68AF",
        "outputId": "2c8e3712-7128-49d4-fb11-bcfaed583c69"
      },
      "execution_count": 6,
      "outputs": [
        {
          "output_type": "stream",
          "name": "stdout",
          "text": [
            "Enter the employee's base salary: 8100\n",
            "Net salary after tax deduction: 6480.00\n"
          ]
        }
      ]
    },
    {
      "cell_type": "markdown",
      "source": [
        "**Exercise 04**"
      ],
      "metadata": {
        "id": "4RpR-Iuw7I1C"
      }
    },
    {
      "cell_type": "markdown",
      "source": [
        "**Question 01**"
      ],
      "metadata": {
        "id": "M6QOB_zh7Uyt"
      }
    },
    {
      "cell_type": "code",
      "source": [
        "# Collect information for 5 products\n",
        "products = []\n",
        "\n",
        "for i in range(5):\n",
        "    name = input(f\"Enter the name of product {i+1}: \")\n",
        "    price = float(input(f\"Enter the price of product {i+1}: \"))\n",
        "    products.append((name, price))\n",
        "\n",
        "print(\"\\nProduct Information:\")\n",
        "# Display each product with label\n",
        "for name, price in products:\n",
        "    label = \"Expensive\" if price > 500 else \"Cheap\"\n",
        "    print(f\"Product: {name}, Price: {price:.2f}, Label: {label}\")\n",
        "\n",
        "# Calculate average price\n",
        "total_price = 0\n",
        "for _, price in products:\n",
        "    total_price += price\n",
        "average_price = total_price / len(products)\n",
        "print(f\"\\nAverage Price: {average_price:.2f}\")\n",
        "\n",
        "# Find the cheapest and most expensive product (without lambda)\n",
        "cheapest_name = products[0][0]\n",
        "cheapest_price = products[0][1]\n",
        "\n",
        "most_expensive_name = products[0][0]\n",
        "most_expensive_price = products[0][1]\n",
        "\n",
        "for name, price in products:\n",
        "    if price < cheapest_price:\n",
        "        cheapest_price = price\n",
        "        cheapest_name = name\n",
        "    if price > most_expensive_price:\n",
        "        most_expensive_price = price\n",
        "        most_expensive_name = name\n",
        "\n",
        "# Display results\n",
        "print(f\"Cheapest Product: {cheapest_name}, Price: {cheapest_price:.2f}\")\n",
        "print(f\"Most Expensive Product: {most_expensive_name}, Price: {most_expensive_price:.2f}\")"
      ],
      "metadata": {
        "colab": {
          "base_uri": "https://localhost:8080/"
        },
        "id": "MzFmWpTa7HmP",
        "outputId": "d29fb8d1-c03f-4d50-ae66-4fb0958fdea4"
      },
      "execution_count": 10,
      "outputs": [
        {
          "output_type": "stream",
          "name": "stdout",
          "text": [
            "Enter the name of product 1: Laptop\n",
            "Enter the price of product 1: 1200\n",
            "Enter the name of product 2: Mouse\n",
            "Enter the price of product 2: 200\n",
            "Enter the name of product 3: Keyboard\n",
            "Enter the price of product 3: 500\n",
            "Enter the name of product 4: Speaker\n",
            "Enter the price of product 4: 600\n",
            "Enter the name of product 5: Cool Pad\n",
            "Enter the price of product 5: 800\n",
            "\n",
            "Product Information:\n",
            "Product: Laptop, Price: 1200.00, Label: Expensive\n",
            "Product: Mouse, Price: 200.00, Label: Cheap\n",
            "Product: Keyboard, Price: 500.00, Label: Cheap\n",
            "Product: Speaker, Price: 600.00, Label: Expensive\n",
            "Product: Cool Pad, Price: 800.00, Label: Expensive\n",
            "\n",
            "Average Price: 660.00\n",
            "Cheapest Product: Mouse, Price: 200.00\n",
            "Most Expensive Product: Laptop, Price: 1200.00\n"
          ]
        }
      ]
    },
    {
      "cell_type": "markdown",
      "source": [
        "**Question 02**"
      ],
      "metadata": {
        "id": "Tz7szNQk8AE7"
      }
    },
    {
      "cell_type": "code",
      "source": [
        "# Get number from the user\n",
        "num = int(input(\"Enter a number to calculate its factorial: \"))\n",
        "\n",
        "# Check for valid input\n",
        "if num < 0:\n",
        "    print(\"Factorial is not defined for negative numbers.\")\n",
        "else:\n",
        "    factorial = 1\n",
        "    for i in range(1, num + 1):\n",
        "        factorial *= i\n",
        "    print(f\"The factorial of {num} is: {factorial}\")\n"
      ],
      "metadata": {
        "colab": {
          "base_uri": "https://localhost:8080/"
        },
        "id": "r86UXWUK8GfG",
        "outputId": "ce9e88f4-0cf5-4523-e631-f2939382c1b0"
      },
      "execution_count": 7,
      "outputs": [
        {
          "output_type": "stream",
          "name": "stdout",
          "text": [
            "Enter a number to calculate its factorial: -1\n",
            "Factorial is not defined for negative numbers.\n"
          ]
        }
      ]
    },
    {
      "cell_type": "code",
      "source": [
        "# Get number from the user\n",
        "num = int(input(\"Enter a number to calculate its factorial: \"))\n",
        "\n",
        "# Check for valid input\n",
        "if num < 0:\n",
        "    print(\"Factorial is not defined for negative numbers.\")\n",
        "else:\n",
        "    factorial = 1\n",
        "    for i in range(1, num + 1):\n",
        "        factorial *= i\n",
        "    print(f\"The factorial of {num} is: {factorial}\")"
      ],
      "metadata": {
        "colab": {
          "base_uri": "https://localhost:8080/"
        },
        "id": "Mthxm_mt8J4u",
        "outputId": "9999ec97-d5d6-45b8-f57a-60f090b79114"
      },
      "execution_count": 8,
      "outputs": [
        {
          "output_type": "stream",
          "name": "stdout",
          "text": [
            "Enter a number to calculate its factorial: 5\n",
            "The factorial of 5 is: 120\n"
          ]
        }
      ]
    },
    {
      "cell_type": "markdown",
      "source": [
        "**Question 03**"
      ],
      "metadata": {
        "id": "iFgFIixA8N2L"
      }
    },
    {
      "cell_type": "code",
      "source": [
        "# List to store filenames\n",
        "file_names = []\n",
        "\n",
        "# Collect 5 filenames from the user\n",
        "for i in range(5):\n",
        "    file_name = input(f\"Enter the name of file {i+1}: \")\n",
        "    file_names.append(file_name)\n",
        "\n",
        "# Count how many have the .py extension\n",
        "py_count = 0\n",
        "for name in file_names:\n",
        "    if name.endswith(\".py\"):\n",
        "        py_count += 1\n",
        "\n",
        "# Display the result\n",
        "print(f\"\\nNumber of files with .py extension: {py_count}\")"
      ],
      "metadata": {
        "colab": {
          "base_uri": "https://localhost:8080/"
        },
        "id": "tm8kgqDO8TpS",
        "outputId": "db2bd3cc-6935-40e3-edd7-8ef4e3f4a97d"
      },
      "execution_count": 11,
      "outputs": [
        {
          "output_type": "stream",
          "name": "stdout",
          "text": [
            "Enter the name of file 1: file1.txt\n",
            "Enter the name of file 2: script.py\n",
            "Enter the name of file 3: data.csv\n",
            "Enter the name of file 4: main.py\n",
            "Enter the name of file 5: Readme.md\n",
            "\n",
            "Number of files with .py extension: 2\n"
          ]
        }
      ]
    }
  ]
}