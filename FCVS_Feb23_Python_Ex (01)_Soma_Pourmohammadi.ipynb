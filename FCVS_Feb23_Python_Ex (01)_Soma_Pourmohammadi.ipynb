{
 "cells": [
  {
   "cell_type": "code",
   "execution_count": 3,
   "id": "ef66ed33",
   "metadata": {},
   "outputs": [
    {
     "name": "stdout",
     "output_type": "stream",
     "text": [
      "<class 'str'>\n",
      "<class 'str'>\n",
      "<class 'int'>\n",
      "<class 'float'>\n",
      "<class 'bool'>\n"
     ]
    }
   ],
   "source": [
    "#EX01 : What is the type of the following data?\n",
    "\n",
    "var_1 = 'Filoger'\n",
    "print(type(var_1))\n",
    "\n",
    "var_2 = '19.0'\n",
    "print(type(var_2))\n",
    "\n",
    "var_3 = 18\n",
    "print(type(var_3))\n",
    "\n",
    "var_4 = 13.0\n",
    "print(type(var_4))\n",
    "\n",
    "var_5 = True\n",
    "print(type(var_5))\n"
   ]
  },
  {
   "cell_type": "code",
   "execution_count": 4,
   "id": "eecccddc",
   "metadata": {},
   "outputs": [
    {
     "ename": "ValueError",
     "evalue": "invalid literal for int() with base 10: 'Filoger'",
     "output_type": "error",
     "traceback": [
      "\u001b[1;31m---------------------------------------------------------------------------\u001b[0m",
      "\u001b[1;31mValueError\u001b[0m                                Traceback (most recent call last)",
      "Input \u001b[1;32mIn [4]\u001b[0m, in \u001b[0;36m<cell line: 4>\u001b[1;34m()\u001b[0m\n\u001b[0;32m      1\u001b[0m \u001b[38;5;66;03m#Ex02 : Convert the following data to integer?\u001b[39;00m\n\u001b[0;32m      3\u001b[0m var_1 \u001b[38;5;241m=\u001b[39m \u001b[38;5;124m'\u001b[39m\u001b[38;5;124mFiloger\u001b[39m\u001b[38;5;124m'\u001b[39m\n\u001b[1;32m----> 4\u001b[0m \u001b[38;5;28mprint\u001b[39m(\u001b[38;5;28;43mint\u001b[39;49m\u001b[43m(\u001b[49m\u001b[43mvar_1\u001b[49m\u001b[43m)\u001b[49m)\n",
      "\u001b[1;31mValueError\u001b[0m: invalid literal for int() with base 10: 'Filoger'"
     ]
    }
   ],
   "source": [
    "#Ex02 : Convert the following data to integer?\n",
    "\n",
    "var_1 = 'Filoger'\n",
    "print(int(var_1))\n"
   ]
  },
  {
   "cell_type": "code",
   "execution_count": 5,
   "id": "367e7f60",
   "metadata": {},
   "outputs": [
    {
     "ename": "ValueError",
     "evalue": "invalid literal for int() with base 10: '19.0'",
     "output_type": "error",
     "traceback": [
      "\u001b[1;31m---------------------------------------------------------------------------\u001b[0m",
      "\u001b[1;31mValueError\u001b[0m                                Traceback (most recent call last)",
      "Input \u001b[1;32mIn [5]\u001b[0m, in \u001b[0;36m<cell line: 2>\u001b[1;34m()\u001b[0m\n\u001b[0;32m      1\u001b[0m var_2 \u001b[38;5;241m=\u001b[39m \u001b[38;5;124m'\u001b[39m\u001b[38;5;124m19.0\u001b[39m\u001b[38;5;124m'\u001b[39m\n\u001b[1;32m----> 2\u001b[0m \u001b[38;5;28mprint\u001b[39m(\u001b[38;5;28;43mint\u001b[39;49m\u001b[43m(\u001b[49m\u001b[43mvar_2\u001b[49m\u001b[43m)\u001b[49m)\n",
      "\u001b[1;31mValueError\u001b[0m: invalid literal for int() with base 10: '19.0'"
     ]
    }
   ],
   "source": [
    "var_2 = '19.0'\n",
    "print(int(var_2))\n"
   ]
  },
  {
   "cell_type": "code",
   "execution_count": 6,
   "id": "3c82a7f6",
   "metadata": {},
   "outputs": [
    {
     "name": "stdout",
     "output_type": "stream",
     "text": [
      "18\n"
     ]
    }
   ],
   "source": [
    "var_3 = 18\n",
    "print(int(var_3))"
   ]
  },
  {
   "cell_type": "code",
   "execution_count": 7,
   "id": "9b33e079",
   "metadata": {},
   "outputs": [
    {
     "name": "stdout",
     "output_type": "stream",
     "text": [
      "13\n"
     ]
    }
   ],
   "source": [
    "var_4 = 13.0\n",
    "print(int(var_4))"
   ]
  },
  {
   "cell_type": "code",
   "execution_count": 8,
   "id": "5d68d569",
   "metadata": {},
   "outputs": [
    {
     "name": "stdout",
     "output_type": "stream",
     "text": [
      "1\n"
     ]
    }
   ],
   "source": [
    "var_5 = True\n",
    "print(int(var_5))\n"
   ]
  },
  {
   "cell_type": "code",
   "execution_count": 9,
   "id": "f02aafd7",
   "metadata": {},
   "outputs": [],
   "source": [
    "#Ex03 : Print size of the following data in memory(bytes).\n",
    "#first we need to import sys the n we should use .getsizeof function.\n",
    "\n",
    "import sys"
   ]
  },
  {
   "cell_type": "code",
   "execution_count": 10,
   "id": "c48e1e68",
   "metadata": {},
   "outputs": [
    {
     "name": "stdout",
     "output_type": "stream",
     "text": [
      "The size of var_1 is 56 on the memory\n"
     ]
    }
   ],
   "source": [
    "var_1 = 'Filoger'\n",
    "print('The size of var_1 is ' + str(sys.getsizeof(var_1)) + ' on the memory')"
   ]
  },
  {
   "cell_type": "code",
   "execution_count": 11,
   "id": "652306f8",
   "metadata": {},
   "outputs": [
    {
     "name": "stdout",
     "output_type": "stream",
     "text": [
      "The size of var_2 is 53 on the memory\n"
     ]
    }
   ],
   "source": [
    "var_2 = \"19.0\"\n",
    "print('The size of var_2 is ' + str(sys.getsizeof(var_2)) + ' on the memory')"
   ]
  },
  {
   "cell_type": "code",
   "execution_count": 12,
   "id": "a3d348d6",
   "metadata": {},
   "outputs": [
    {
     "name": "stdout",
     "output_type": "stream",
     "text": [
      "The size of var_3 is 28 on the memory\n"
     ]
    }
   ],
   "source": [
    "var_3 = 18\n",
    "print('The size of var_3 is ' + str(sys.getsizeof(var_3)) + ' on the memory')"
   ]
  },
  {
   "cell_type": "code",
   "execution_count": 13,
   "id": "2cf1bc6a",
   "metadata": {},
   "outputs": [
    {
     "name": "stdout",
     "output_type": "stream",
     "text": [
      "The size of var_4 is 24 on the memory\n"
     ]
    }
   ],
   "source": [
    "var_4 = 13.0\n",
    "print('The size of var_4 is ' + str(sys.getsizeof(var_4)) + ' on the memory')"
   ]
  },
  {
   "cell_type": "code",
   "execution_count": 14,
   "id": "e39780a6",
   "metadata": {},
   "outputs": [
    {
     "name": "stdout",
     "output_type": "stream",
     "text": [
      "The size of var_5 is 28 on the memory\n"
     ]
    }
   ],
   "source": [
    "var_5= True\n",
    "print('The size of var_5 is ' + str(sys.getsizeof(var_5)) + ' on the memory')"
   ]
  },
  {
   "cell_type": "code",
   "execution_count": 15,
   "id": "6e7ddbfa",
   "metadata": {},
   "outputs": [
    {
     "name": "stdout",
     "output_type": "stream",
     "text": [
      "Filoger\n",
      "18\n",
      "13.0\n",
      "True\n",
      "0.002999544143676758\n"
     ]
    }
   ],
   "source": [
    "#Ex04 : print running time of program to find type of the following data.\n",
    "#we should import time library.\n",
    "\n",
    "import time\n",
    "\n",
    "start = time.time()\n",
    "var_1 = 'Filoger'\n",
    "var_2 = '19.0'\n",
    "var_3 = 18\n",
    "var_4 = 13.0\n",
    "var_5 = True\n",
    "\n",
    "print(var_1)\n",
    "\n",
    "print(var_3)\n",
    "print(var_4)\n",
    "print(var_5)\n",
    "\n",
    "end = time.time()\n",
    "print(end - start)\n"
   ]
  },
  {
   "cell_type": "code",
   "execution_count": 16,
   "id": "cbb70406",
   "metadata": {},
   "outputs": [
    {
     "name": "stdout",
     "output_type": "stream",
     "text": [
      "19.0\n",
      "0.0009989738464355469\n"
     ]
    }
   ],
   "source": [
    "var_2 = '19.0'\n",
    "start = time.time()\n",
    "print(var_2)\n",
    "end = time.time()\n",
    "print(end - start)\n"
   ]
  },
  {
   "cell_type": "code",
   "execution_count": 17,
   "id": "0b7a5e66",
   "metadata": {},
   "outputs": [
    {
     "name": "stdout",
     "output_type": "stream",
     "text": [
      "18\n",
      "0.0\n"
     ]
    }
   ],
   "source": [
    "var_3 = 18\n",
    "start = time.time()\n",
    "print(var_3)\n",
    "end = time.time()\n",
    "print(end - start)\n"
   ]
  },
  {
   "cell_type": "code",
   "execution_count": 18,
   "id": "22b153d1",
   "metadata": {},
   "outputs": [
    {
     "name": "stdout",
     "output_type": "stream",
     "text": [
      "13.0\n",
      "0.0\n"
     ]
    }
   ],
   "source": [
    "var_4 = 13.0\n",
    "start = time.time()\n",
    "print(var_4)\n",
    "end = time.time()\n",
    "print(end - start)"
   ]
  },
  {
   "cell_type": "code",
   "execution_count": 19,
   "id": "3cd43018",
   "metadata": {},
   "outputs": [
    {
     "name": "stdout",
     "output_type": "stream",
     "text": [
      "True\n",
      "0.0\n"
     ]
    }
   ],
   "source": [
    "var_5 = True\n",
    "start = time.time()\n",
    "print(var_5)\n",
    "end = time.time()\n",
    "print(end - start)"
   ]
  },
  {
   "cell_type": "code",
   "execution_count": null,
   "id": "641aafc6",
   "metadata": {},
   "outputs": [],
   "source": [
    "!Finished"
   ]
  }
 ],
 "metadata": {
  "kernelspec": {
   "display_name": "Python 3 (ipykernel)",
   "language": "python",
   "name": "python3"
  },
  "language_info": {
   "codemirror_mode": {
    "name": "ipython",
    "version": 3
   },
   "file_extension": ".py",
   "mimetype": "text/x-python",
   "name": "python",
   "nbconvert_exporter": "python",
   "pygments_lexer": "ipython3",
   "version": "3.9.12"
  }
 },
 "nbformat": 4,
 "nbformat_minor": 5
}
